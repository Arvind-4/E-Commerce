{
 "cells": [
  {
   "cell_type": "code",
   "execution_count": 1,
   "id": "7b5b10c9",
   "metadata": {},
   "outputs": [],
   "source": [
    "from scripts.django_with_jupyter import init_django"
   ]
  },
  {
   "cell_type": "code",
   "execution_count": 2,
   "id": "b9ed8bb8",
   "metadata": {},
   "outputs": [
    {
     "name": "stdout",
     "output_type": "stream",
     "text": [
      "project_name backend\n",
      "Production Settings\n",
      "DATABASE_NAME not found. Declare it as envvar or define a default value.\n",
      "Local Settings\n"
     ]
    }
   ],
   "source": [
    "init_django()"
   ]
  },
  {
   "cell_type": "code",
   "execution_count": 3,
   "id": "21a78ed5",
   "metadata": {},
   "outputs": [],
   "source": [
    "from products.models import Product"
   ]
  },
  {
   "cell_type": "code",
   "execution_count": 4,
   "id": "1563cd5c",
   "metadata": {},
   "outputs": [],
   "source": [
    "objs = list(Product.objects.all())"
   ]
  },
  {
   "cell_type": "code",
   "execution_count": 5,
   "id": "eaa55439",
   "metadata": {},
   "outputs": [
    {
     "name": "stdout",
     "output_type": "stream",
     "text": [
      "I phone\n",
      "I Mac 24 inch\n",
      "Samsung S21-Ultra Black\n",
      "Poco F3\n",
      "Hp envy x360\n"
     ]
    }
   ],
   "source": [
    "for i in objs:\n",
    "    print(i.title)"
   ]
  },
  {
   "cell_type": "code",
   "execution_count": 6,
   "id": "b430d211",
   "metadata": {},
   "outputs": [],
   "source": [
    "from category.models import Category"
   ]
  },
  {
   "cell_type": "code",
   "execution_count": 10,
   "id": "8258c53f",
   "metadata": {},
   "outputs": [
    {
     "data": {
      "text/plain": [
       "<Category: Electronics>"
      ]
     },
     "execution_count": 10,
     "metadata": {},
     "output_type": "execute_result"
    }
   ],
   "source": [
    "obj = Category.objects.last()\n",
    "obj"
   ]
  },
  {
   "cell_type": "code",
   "execution_count": null,
   "id": "78f8317d",
   "metadata": {},
   "outputs": [],
   "source": []
  }
 ],
 "metadata": {
  "kernelspec": {
   "display_name": "Python 3 (ipykernel)",
   "language": "python",
   "name": "python3"
  },
  "language_info": {
   "codemirror_mode": {
    "name": "ipython",
    "version": 3
   },
   "file_extension": ".py",
   "mimetype": "text/x-python",
   "name": "python",
   "nbconvert_exporter": "python",
   "pygments_lexer": "ipython3",
   "version": "3.9.14"
  }
 },
 "nbformat": 4,
 "nbformat_minor": 5
}
